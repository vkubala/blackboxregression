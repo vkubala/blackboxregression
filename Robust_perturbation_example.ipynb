{
  "cells": [
    {
      "cell_type": "code",
      "execution_count": 1,
      "metadata": {
        "id": "obLrXikRKW7M"
      },
      "outputs": [],
      "source": [
        "import numpy as np\n",
        "from sklearn import datasets\n",
        "from sklearn import tree\n",
        "\n",
        "import bbreg\n",
        "from common import *\n",
        "from sklearn.model_selection import train_test_split\n",
        "from sklearn.tree import DecisionTreeRegressor, plot_tree"
      ]
    },
    {
      "cell_type": "code",
      "execution_count": null,
      "metadata": {
        "id": "x97cCB05KcCV"
      },
      "outputs": [],
      "source": [
        "# Generate  data\n",
        "X, Y = datasets.make_regression(n_samples=500, n_features=5,  n_informative = 5, noise=4, random_state=42)\n",
        "\n",
        "# create regularization vector\n",
        "### the black box function will tune for c, this input is used as the maximum regularization term\n",
        "c=np.array([0, 0, 0.25, 1, 1.5])\n",
        "print(c)"
      ]
    },
    {
      "cell_type": "code",
      "execution_count": 3,
      "metadata": {
        "id": "VPWFiV7ioCpv"
      },
      "outputs": [],
      "source": [
        "# training testing split\n",
        "X_train, X_test, Y_train, Y_test = train_test_split(X,Y,test_size=0.2, random_state=42)"
      ]
    },
    {
      "cell_type": "code",
      "execution_count": null,
      "metadata": {
        "id": "ZkRbgVVlKg6c"
      },
      "outputs": [],
      "source": [
        "def learning_alg(X, Y):\n",
        "    dtr = tree.DecisionTreeRegressor(random_state=42)\n",
        "    dtr.fit(X, Y)\n",
        "    return dtr.predict\n",
        "\n",
        "predictor = bbreg.black_box_regress(\n",
        "    learning_alg=learning_alg,\n",
        "    X=X_train,\n",
        "    Y=Y_train,\n",
        "    regularization_method=RegularizationMethod.Robust,\n",
        "    eval_criterion=EvalCriterion.MSE,\n",
        "    K=5,\n",
        "    c=c,\n",
        "    verbose='TRUE'\n",
        ")\n",
        "\n",
        "# Runtime significant: ~30 minutes"
      ]
    },
    {
      "cell_type": "code",
      "execution_count": null,
      "metadata": {
        "id": "XWlQLd75O-4z"
      },
      "outputs": [],
      "source": [
        "Yhat = predictor(X_test)\n",
        "print(\"MSE for regularized and tuned decision tree on testing data:\",mse(Yhat,Y_test))"
      ]
    },
    {
      "cell_type": "code",
      "execution_count": null,
      "metadata": {
        "id": "TMO11jUePzMT"
      },
      "outputs": [],
      "source": [
        "# simple decision tree performance\n",
        "\n",
        "dtr = tree.DecisionTreeRegressor(random_state=42)\n",
        "dtr.fit(X_train, Y_train)\n",
        "Yhat_no_reg = dtr.predict(X_test)\n",
        "\n",
        "print(\"MSE for unregularized decision tree on testing data:\", mse(Yhat_no_reg,Y_test))\n",
        "# we have improved performance with black_box_reg compared to this benchmark model WRT MSE"
      ]
    }
  ],
  "metadata": {
    "colab": {
      "provenance": []
    },
    "kernelspec": {
      "display_name": "Python 3",
      "name": "python3"
    },
    "language_info": {
      "name": "python"
    }
  },
  "nbformat": 4,
  "nbformat_minor": 0
}
