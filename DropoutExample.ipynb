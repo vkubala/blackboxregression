{
  "cells": [
    {
      "cell_type": "code",
      "execution_count": 1,
      "metadata": {
        "id": "obLrXikRKW7M"
      },
      "outputs": [],
      "source": [
        "import numpy as np\n",
        "from sklearn import datasets\n",
        "from sklearn import tree\n",
        "\n",
        "import bbreg\n",
        "from common import *\n",
        "from sklearn.model_selection import train_test_split\n",
        "from sklearn.tree import DecisionTreeRegressor, plot_tree"
      ]
    },
    {
      "cell_type": "code",
      "execution_count": 2,
      "metadata": {
        "id": "x97cCB05KcCV"
      },
      "outputs": [],
      "source": [
        "# Generate  data\n",
        "X, Y = datasets.make_regression(n_samples=500, n_features=5,  n_informative = 5, noise=4, random_state=42)"
      ]
    },
    {
      "cell_type": "code",
      "execution_count": 3,
      "metadata": {
        "id": "VPWFiV7ioCpv"
      },
      "outputs": [],
      "source": [
        "# training testing split\n",
        "X_train, X_test, Y_train, Y_test = train_test_split(X,Y,test_size=0.2, random_state=42)"
      ]
    },
    {
      "cell_type": "code",
      "execution_count": 5,
      "metadata": {
        "id": "ZkRbgVVlKg6c"
      },
      "outputs": [
        {
          "name": "stdout",
          "output_type": "stream",
          "text": [
            "Optimal Dropout Probability: 0.48275862068965514\n"
          ]
        }
      ],
      "source": [
        "def learning_alg(X, Y):\n",
        "    dtr = tree.DecisionTreeRegressor(random_state=42)\n",
        "    dtr.fit(X, Y)\n",
        "    return dtr.predict\n",
        "\n",
        "predictor = bbreg.black_box_regress(\n",
        "    learning_alg=learning_alg,\n",
        "    X=X_train,\n",
        "    Y=Y_train,\n",
        "    regularization_method=RegularizationMethod.Dropout,\n",
        "    eval_criterion=EvalCriterion.MSE,\n",
        "    K=5,\n",
        "    M=10,\n",
        "    verbose='TRUE'\n",
        ")"
      ]
    },
    {
      "cell_type": "code",
      "execution_count": 6,
      "metadata": {
        "id": "XWlQLd75O-4z"
      },
      "outputs": [
        {
          "name": "stdout",
          "output_type": "stream",
          "text": [
            "MSE for regularized and tuned decision tree on testing data: 909059.1420921653\n"
          ]
        }
      ],
      "source": [
        "Yhat = predictor(X_test)\n",
        "print(\"MSE for regularized and tuned decision tree on testing data:\",mse(Yhat,Y_test))"
      ]
    },
    {
      "cell_type": "code",
      "execution_count": 7,
      "metadata": {
        "id": "TMO11jUePzMT"
      },
      "outputs": [
        {
          "name": "stdout",
          "output_type": "stream",
          "text": [
            "MSE for unregularized decision tree on testing data: 2299858.925692626\n"
          ]
        }
      ],
      "source": [
        "# simple decision tree performance\n",
        "\n",
        "dtr = tree.DecisionTreeRegressor(random_state=42)\n",
        "dtr.fit(X_train, Y_train)\n",
        "Yhat_no_reg = dtr.predict(X_test)\n",
        "\n",
        "print(\"MSE for unregularized decision tree on testing data:\", mse(Yhat_no_reg,Y_test))\n",
        "# we have improved performance with black_box_reg compared to this benchmark model WRT MSE"
      ]
    }
  ],
  "metadata": {
    "colab": {
      "provenance": []
    },
    "kernelspec": {
      "display_name": "Python 3",
      "name": "python3"
    },
    "language_info": {
      "codemirror_mode": {
        "name": "ipython",
        "version": 3
      },
      "file_extension": ".py",
      "mimetype": "text/x-python",
      "name": "python",
      "nbconvert_exporter": "python",
      "pygments_lexer": "ipython3",
      "version": "3.9.13"
    }
  },
  "nbformat": 4,
  "nbformat_minor": 0
}
