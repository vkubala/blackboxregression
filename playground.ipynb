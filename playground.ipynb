{
 "cells": [
  {
   "cell_type": "code",
   "execution_count": 1,
   "metadata": {},
   "outputs": [],
   "source": [
    "import numpy as np\n",
    "from sklearn import datasets\n",
    "from sklearn import tree\n",
    "\n",
    "import bbreg\n",
    "from common import *"
   ]
  },
  {
   "cell_type": "code",
   "execution_count": 2,
   "metadata": {},
   "outputs": [
    {
     "name": "stdout",
     "output_type": "stream",
     "text": [
      "0.0\n"
     ]
    }
   ],
   "source": [
    "# Generate  data\n",
    "X, Y = datasets.make_regression(n_samples=1200, n_features=30,  n_informative = 18, noise=10, random_state=42)\n",
    "# Y = (Y - np.mean(Y)) / np.std(Y)\n",
    "# print(Y)\n",
    "def learning_alg(X, Y):\n",
    "    dtr = tree.DecisionTreeRegressor(random_state=42)\n",
    "    dtr.fit(X, Y)\n",
    "    return dtr.predict\n",
    "\n",
    "predictor = bbreg.black_box_regress(\n",
    "    learning_alg=learning_alg,\n",
    "    X=X,\n",
    "    Y=Y,\n",
    "    regularization_method=RegularizationMethod.Dropout,\n",
    "    eval_criterion=EvalCriterion.MSE,\n",
    "    K=5,\n",
    "    M=1,\n",
    ")"
   ]
  },
  {
   "cell_type": "code",
   "execution_count": 7,
   "metadata": {},
   "outputs": [
    {
     "data": {
      "text/plain": [
       "85610901.23972192"
      ]
     },
     "execution_count": 7,
     "metadata": {},
     "output_type": "execute_result"
    }
   ],
   "source": [
    "Yhat = predictor(X)\n",
    "bbreg.mse(Yhat, Y)"
   ]
  },
  {
   "cell_type": "code",
   "execution_count": 8,
   "metadata": {},
   "outputs": [
    {
     "data": {
      "text/plain": [
       "0.0"
      ]
     },
     "execution_count": 8,
     "metadata": {},
     "output_type": "execute_result"
    }
   ],
   "source": [
    "dtr.fit(X, Y)\n",
    "Yhat = dtr.predict(X)\n",
    "bbreg.mse(Yhat, Y)"
   ]
  }
 ],
 "metadata": {
  "kernelspec": {
   "display_name": "Python 3",
   "language": "python",
   "name": "python3"
  },
  "language_info": {
   "codemirror_mode": {
    "name": "ipython",
    "version": 3
   },
   "file_extension": ".py",
   "mimetype": "text/x-python",
   "name": "python",
   "nbconvert_exporter": "python",
   "pygments_lexer": "ipython3",
   "version": "3.9.13"
  }
 },
 "nbformat": 4,
 "nbformat_minor": 2
}
